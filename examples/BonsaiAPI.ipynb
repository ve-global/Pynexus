{
 "cells": [
  {
   "cell_type": "markdown",
   "metadata": {},
   "source": [
    "# Summary\n",
    "\n",
    "This notebook show how to upload a bonsai algorithm."
   ]
  },
  {
   "cell_type": "markdown",
   "metadata": {
    "collapsed": false
   },
   "source": [
    "from pynexus import BonsaiAPI\n",
    "from pynexus.settings import APPNEXUS_ACCOUNT\n",
    "\n",
    "# Modify your logs\n",
    "APPNEXUS_ACCOUNT.update({\n",
    "        'username': \"\",\n",
    "        'password': \"\"\n",
    "})"
   ]
  },
  {
   "cell_type": "code",
   "execution_count": 2,
   "metadata": {
    "collapsed": false
   },
   "outputs": [],
   "source": [
    "import re\n",
    "\n",
    "model= \"\"\"\n",
    "if segment[1].age <= 180:\n",
    "    1\n",
    "else:\n",
    "    5\n",
    "\"\"\"\n",
    "\n",
    "# Needed if from a notebook\n",
    "model_str = \"\\n\".join([re.sub(\"(\\s{4})\", \"\\t\", line) for line in model.split('\\n')])\n",
    "model_name = \"test_bonsai_1\"\n",
    "member_id = int('your_member_id')\n",
    "\n",
    "bonsai_api = BonsaiAPI(**APPNEXUS_ACCOUNT)"
   ]
  },
  {
   "cell_type": "code",
   "execution_count": 14,
   "metadata": {
    "collapsed": false
   },
   "outputs": [
    {
     "name": "stderr",
     "output_type": "stream",
     "text": [
      "2016-09-02 12:08:11 INFO 1. Validating the model\n",
      "2016-09-02 12:08:13 INFO 2. Uploading the model\n",
      "2016-09-02 12:08:14 INFO Status: OK\n"
     ]
    }
   ],
   "source": [
    "bonsai_api.add_model(model_name=model_name, \n",
    "                     member_id=member_id, advertiser_id=int('your_advertiser_id'),\n",
    "                     model_output=\"bid_modifier\", model_str=model_str)"
   ]
  },
  {
   "cell_type": "code",
   "execution_count": 15,
   "metadata": {
    "collapsed": false
   },
   "outputs": [
    {
     "data": {
      "text/plain": [
       "[{'active': True,\n",
       "  'advertiser_id': your_advertiser_id,\n",
       "  'code': None,\n",
       "  'custom_model_structure': 'decision_tree',\n",
       "  'id': 17519,\n",
       "  'last_modified': '2016-09-02 10:08:14',\n",
       "  'member_id': your_member_id,\n",
       "  'model_output': 'bid_modifier',\n",
       "  'name': 'test_bonsai_1'}]"
      ]
     },
     "execution_count": 15,
     "metadata": {},
     "output_type": "execute_result"
    }
   ],
   "source": [
    "[x for x in bonsai_api.get_models() if x['name'] == model_name]"
   ]
  },
  {
   "cell_type": "code",
   "execution_count": null,
   "metadata": {
    "collapsed": true
   },
   "outputs": [],
   "source": [
    ""
   ]
  }
 ],
 "metadata": {
  "anaconda-cloud": {},
  "kernelspec": {
   "display_name": "Python 3",
   "language": "python",
   "name": "python3"
  },
  "language_info": {
   "codemirror_mode": {
    "name": "ipython",
    "version": 3.0
   },
   "file_extension": ".py",
   "mimetype": "text/x-python",
   "name": "python",
   "nbconvert_exporter": "python",
   "pygments_lexer": "ipython3",
   "version": "3.5.2"
  }
 },
 "nbformat": 4,
 "nbformat_minor": 0
}