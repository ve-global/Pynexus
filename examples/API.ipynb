{
 "cells": [
  {
   "cell_type": "markdown",
   "metadata": {},
   "source": [
    "# Summary\n",
    "\n",
    "### Requirements: \n",
    " - **python 3**  \n",
    "\n",
    "\n",
    "This notebook show how to make call to the AppNexus API.  \n",
    "Implemented functions:\n",
    "\n",
    "```python\n",
    "   def get_campaign(self, ids=None, one_id=None, advertiser_id=None, only_names=True):\n",
    "        \"\"\" cf https://wiki.appnexus.com/display/api/Campaign+Service\"\"\"\n",
    "\n",
    "    def get_pixel(self, ids=None, one_id=None, advertiser_id=None,\n",
    "                   advertiser_code=None, pixel_code=None, only_names=True):\n",
    "        \"\"\" cf https://wiki.appnexus.com/display/api/Conversion+Pixel+Service \"\"\"\n",
    "\n",
    "    def get_device(self, one_id=None, device_type=None, only_names=True):\n",
    "        \"\"\" cf https://wiki.appnexus.com/display/api/Device+Model+Service \"\"\"\n",
    "        \n",
    "    def get_advertiser(self, ids=None, one_id=None, search_term=None, only_names=True):\n",
    "        \"\"\" cf https://wiki.appnexus.com/display/api/Advertiser+Service\"\"\"\n",
    "        \n",
    "    def get_line_item(self, ids=None, one_id=None, advertiser_id=None, only_names=True):\n",
    "        \"\"\" cf https://wiki.appnexus.com/display/api/Line+Item+Service\"\"\"\n",
    "\n",
    "    def get_insertion_order(self, ids=None, one_id=None, advertiser_id=None, search_term=None, only_names=True):\n",
    "        \"\"\" cf https://wiki.appnexus.com/display/api/Insertion+Order+Service\"\"\"\n",
    "\n",
    "    def get_segment(self, ids=None, one_id=None, search_term=None, only_names=True):\n",
    "        \"\"\" cf https://wiki.appnexus.com/display/api/Segment+Service\"\"\"\n",
    "```"
   ]
  },
  {
   "cell_type": "code",
   "execution_count": 1,
   "metadata": {
    "collapsed": false,
    "scrolled": true
   },
   "outputs": [],
   "source": [
    "from pynexus import AppNexusAPI\n",
    "\n",
    "APPNEXUS_ACCOUNT = {\n",
    "    \"username\": \"\",\n",
    "    \"password\": \"\"\n",
    "}\n",
    "api = AppNexusAPI(**APPNEXUS_ACCOUNT)"
   ]
  },
  {
   "cell_type": "markdown",
   "metadata": {},
   "source": [
    "### 1. Make a request"
   ]
  },
  {
   "cell_type": "markdown",
   "metadata": {},
   "source": [
    "**Only the mapping *id -> name * **"
   ]
  },
  {
   "cell_type": "code",
   "execution_count": 2,
   "metadata": {
    "collapsed": false
   },
   "outputs": [
    {
     "data": {
      "text/plain": [
       "{80: 'One Touch 156'}"
      ]
     },
     "execution_count": 2,
     "metadata": {},
     "output_type": "execute_result"
    }
   ],
   "source": [
    "api.get_device(one_id=80)"
   ]
  },
  {
   "cell_type": "markdown",
   "metadata": {},
   "source": [
    "**Full response**"
   ]
  },
  {
   "cell_type": "code",
   "execution_count": 3,
   "metadata": {
    "collapsed": false,
    "scrolled": true
   },
   "outputs": [
    {
     "data": {
      "text/plain": [
       "{'count': 1,\n",
       " 'dbg_info': {'awesomesauce_cache_used': False,\n",
       "  'count_cache_used': True,\n",
       "  'db': '10.3.78.21',\n",
       "  'instance': '62.bm-hbapi.prod.nym2',\n",
       "  'member_last_modified_age': 1476455595,\n",
       "  'output_term': 'device-model',\n",
       "  'read_limit': 100,\n",
       "  'read_limit_seconds': 60,\n",
       "  'reads': 2,\n",
       "  'slave_hit': True,\n",
       "  'slave_lag': 0,\n",
       "  'start_microtime': 1476455595.7868,\n",
       "  'time': 101.31597518921,\n",
       "  'user::read_limit': 100,\n",
       "  'user::read_limit_seconds': 60,\n",
       "  'user::reads': 3,\n",
       "  'user::write_limit': 60,\n",
       "  'user::write_limit_seconds': 60,\n",
       "  'user::writes': 0,\n",
       "  'uuid': 'c845c11348223b07',\n",
       "  'version': '1.16.791',\n",
       "  'warnings': [],\n",
       "  'write_limit': 60,\n",
       "  'write_limit_seconds': 60,\n",
       "  'writes': 0},\n",
       " 'device-model': {'codes': [{'code': 'da-205064',\n",
       "    'device_model_id': 80,\n",
       "    'id': 80,\n",
       "    'notes': 'Alcatel:One Touch 156'}],\n",
       "  'device_make_id': 12,\n",
       "  'device_make_name': 'Alcatel',\n",
       "  'device_type': 'Phone',\n",
       "  'device_type_id': 2,\n",
       "  'id': 80,\n",
       "  'last_modified': '2016-08-09 14:54:06',\n",
       "  'name': 'One Touch 156',\n",
       "  'screen_height': 80,\n",
       "  'screen_width': 101,\n",
       "  'supports_cookies': None,\n",
       "  'supports_flash': None,\n",
       "  'supports_geo': None,\n",
       "  'supports_html_audio': None,\n",
       "  'supports_html_video': None,\n",
       "  'supports_js': None},\n",
       " 'num_elements': 100,\n",
       " 'start_element': 0,\n",
       " 'status': 'OK'}"
      ]
     },
     "execution_count": 3,
     "metadata": {},
     "output_type": "execute_result"
    }
   ],
   "source": [
    "api.get_device(one_id=80, only_names=False)"
   ]
  },
  {
   "cell_type": "markdown",
   "metadata": {},
   "source": [
    "### 2. Bulk request\n",
    "\n",
    "If you need to retrieve more than 100 mappings, you will need to make several call.  \n",
    "The `bulk_requests` function can to that for you"
   ]
  },
  {
   "cell_type": "code",
   "execution_count": 5,
   "metadata": {
    "collapsed": false
   },
   "outputs": [
    {
     "name": "stderr",
     "output_type": "stream",
     "text": [
      "The installed widget Javascript is the wrong version.\n"
     ]
    },
    {
     "name": "stdout",
     "output_type": "stream",
     "text": [
      "\n"
     ]
    }
   ],
   "source": [
    "pixels = AppNexusAPI.bulk_requests(api.get_pixel, range(0, 300))"
   ]
  },
  {
   "cell_type": "markdown",
   "metadata": {},
   "source": [
    "You may also want to retrieve all the elements, without specifying an id.  \n",
    "base the default `get` function will only return up to 100 elements, you can use the `bulk_request_get_all`\n",
    "to avoid hitting the limit."
   ]
  },
  {
   "cell_type": "code",
   "execution_count": 6,
   "metadata": {
    "collapsed": false,
    "scrolled": true
   },
   "outputs": [
    {
     "name": "stderr",
     "output_type": "stream",
     "text": [
      "2016-10-14 16:33:33 INFO 9134 elements found\n",
      "The installed widget Javascript is the wrong version.\n",
      "2016-10-14 16:33:42 INFO \t10/10, breaking loop\n"
     ]
    },
    {
     "name": "stdout",
     "output_type": "stream",
     "text": [
      "\n"
     ]
    }
   ],
   "source": [
    "# We limit here the number of calls to 10\n",
    "names = AppNexusAPI.bulk_request_get_all(api.get_pixel, limit=10, only_names=True)"
   ]
  },
  {
   "cell_type": "code",
   "execution_count": 7,
   "metadata": {
    "collapsed": false,
    "scrolled": true
   },
   "outputs": [
    {
     "name": "stdout",
     "output_type": "stream",
     "text": [
      "1000 elements downloaded\n"
     ]
    }
   ],
   "source": [
    "print('%d elements downloaded' % len(names))"
   ]
  },
  {
   "cell_type": "code",
   "execution_count": null,
   "metadata": {
    "collapsed": true
   },
   "outputs": [],
   "source": [
    ""
   ]
  }
 ],
 "metadata": {
  "anaconda-cloud": {},
  "kernelspec": {
   "display_name": "Python 3",
   "language": "python",
   "name": "python3"
  },
  "language_info": {
   "codemirror_mode": {
    "name": "ipython",
    "version": 3.0
   },
   "file_extension": ".py",
   "mimetype": "text/x-python",
   "name": "python",
   "nbconvert_exporter": "python",
   "pygments_lexer": "ipython3",
   "version": "3.5.2"
  }
 },
 "nbformat": 4,
 "nbformat_minor": 0
}