{
 "cells": [
  {
   "cell_type": "markdown",
   "metadata": {},
   "source": [
    "# Summary\n",
    "\n",
    "### Requirements: \n",
    " - **python 3**  \n",
    "\n",
    "\n",
    "This notebook show how to download reports from the API and display some basic stats.  \n",
    "\n"
   ]
  },
  {
   "cell_type": "code",
   "execution_count": 1,
   "metadata": {
    "collapsed": false
   },
   "outputs": [],
   "source": [
    "import os\n",
    "from pynexus import ReportsAPI\n",
    "from pynexus.settings import APPNEXUS_ACCOUNT\n",
    "from pynexus.reports.settings import network_analytics_fields, segment_load_fields\n",
    "\n",
    "# Modify your logs\n",
    "APPNEXUS_ACCOUNT.update({\n",
    "        'username': \"\",\n",
    "        'password': \"\"\n",
    "})"
   ]
  },
  {
   "cell_type": "code",
   "execution_count": 2,
   "metadata": {
    "collapsed": false
   },
   "outputs": [
    {
     "name": "stdout",
     "output_type": "stream",
     "text": [
      "Network analytics: \n"
     ]
    },
    {
     "data": {
      "text/plain": [
       "{'report': {'columns': ['hour',\n",
       "   'insertion_order_id',\n",
       "   'line_item_id',\n",
       "   'campaign_id',\n",
       "   'advertiser_id',\n",
       "   'pixel_id',\n",
       "   'imps',\n",
       "   'imps_viewed',\n",
       "   'clicks',\n",
       "   'cost',\n",
       "   'cpm',\n",
       "   'cpm_including_fees',\n",
       "   'revenue',\n",
       "   'revenue_including_fees',\n",
       "   'total_convs',\n",
       "   'geo_country'],\n",
       "  'filters': [{'geo_country': 'FR'}],\n",
       "  'format': 'csv',\n",
       "  'groups': ['advertiser_id', 'hour'],\n",
       "  'report_interval': 'last_30_days',\n",
       "  'report_type': 'network_analytics'}}"
      ]
     },
     "execution_count": 2,
     "metadata": {},
     "output_type": "execute_result"
    }
   ],
   "source": [
    "print(\"Network analytics: \")\n",
    "network_analytics_fields"
   ]
  },
  {
   "cell_type": "code",
   "execution_count": 3,
   "metadata": {
    "collapsed": true
   },
   "outputs": [],
   "source": [
    "api = ReportsAPI(**APPNEXUS_ACCOUNT)"
   ]
  },
  {
   "cell_type": "markdown",
   "metadata": {},
   "source": [
    "### 1. Download report "
   ]
  },
  {
   "cell_type": "markdown",
   "metadata": {},
   "source": [
    "**In memory**"
   ]
  },
  {
   "cell_type": "code",
   "execution_count": 9,
   "metadata": {
    "collapsed": false,
    "scrolled": true
   },
   "outputs": [
    {
     "name": "stderr",
     "output_type": "stream",
     "text": [
      "2016-09-28 11:21:23 INFO [get_report] 2.03923106 min\n"
     ]
    },
    {
     "name": "stdout",
     "output_type": "stream",
     "text": [
      "\r"
     ]
    }
   ],
   "source": [
    "report = api.get_report(network_analytics_fields)"
   ]
  },
  {
   "cell_type": "code",
   "execution_count": 10,
   "metadata": {
    "collapsed": false
   },
   "outputs": [
    {
     "data": {
      "text/plain": [
       "Report(type='network_analytics', path=None, file=<_io.BytesIO object at 0x7f89f413b0f8>)"
      ]
     },
     "execution_count": 10,
     "metadata": {},
     "output_type": "execute_result"
    }
   ],
   "source": [
    "report"
   ]
  },
  {
   "cell_type": "markdown",
   "metadata": {},
   "source": [
    "**To a file**"
   ]
  },
  {
   "cell_type": "code",
   "execution_count": 11,
   "metadata": {
    "collapsed": false
   },
   "outputs": [
    {
     "name": "stderr",
     "output_type": "stream",
     "text": [
      "2016-09-28 11:25:05 INFO [save_report] 3.56154648 min\n"
     ]
    },
    {
     "name": "stdout",
     "output_type": "stream",
     "text": [
      "\r"
     ]
    }
   ],
   "source": [
    "report = api.save_report(report_name=\"test\", reports_folder=\".\",\n",
    "                         report_fields=network_analytics_fields)"
   ]
  },
  {
   "cell_type": "code",
   "execution_count": 12,
   "metadata": {
    "collapsed": false
   },
   "outputs": [
    {
     "name": "stdout",
     "output_type": "stream",
     "text": [
      "['test.csv']\n"
     ]
    }
   ],
   "source": [
    "print([x for x in os.listdir() if x.endswith('.csv')])"
   ]
  },
  {
   "cell_type": "markdown",
   "metadata": {},
   "source": [
    "### 2. Download many reports in memory"
   ]
  },
  {
   "cell_type": "code",
   "execution_count": 10,
   "metadata": {
    "collapsed": true
   },
   "outputs": [],
   "source": [
    "reports_to_download = {\n",
    "    'report_1': network_analytics_fields,\n",
    "    'report_2': segment_load_fields\n",
    "}"
   ]
  },
  {
   "cell_type": "markdown",
   "metadata": {},
   "source": [
    "**In memory**"
   ]
  },
  {
   "cell_type": "code",
   "execution_count": 24,
   "metadata": {
    "collapsed": false
   },
   "outputs": [
    {
     "name": "stderr",
     "output_type": "stream",
     "text": [
      "2016-09-28 11:58:33 WARNING (HTTPSConnectionPool(host='api.appnexus.com', port=443): Read timed out. (read timeout=5))... retrying (2/10)\n",
      "2016-09-28 12:00:06 INFO [get_report] 1.64378906 min\n",
      "2016-09-28 12:00:14 INFO [get_report] 0.12247990 min\n",
      "2016-09-28 12:00:14 INFO [get_reports] 1.76671870 min\n"
     ]
    },
    {
     "name": "stdout",
     "output_type": "stream",
     "text": [
      "\r"
     ]
    }
   ],
   "source": [
    "reports = api.get_reports(reports_to_download)"
   ]
  },
  {
   "cell_type": "code",
   "execution_count": 26,
   "metadata": {
    "collapsed": false
   },
   "outputs": [
    {
     "data": {
      "text/plain": [
       "{'report_1': Report(type='network_analytics', path=None, file=<_io.BytesIO object at 0x7f1aa8039d58>),\n",
       " 'report_2': Report(type='segment_load', path=None, file=<_io.BytesIO object at 0x7f1a99d966d0>)}"
      ]
     },
     "execution_count": 26,
     "metadata": {},
     "output_type": "execute_result"
    }
   ],
   "source": [
    "reports"
   ]
  },
  {
   "cell_type": "markdown",
   "metadata": {},
   "source": [
    "**To a file**"
   ]
  },
  {
   "cell_type": "code",
   "execution_count": 11,
   "metadata": {
    "collapsed": false
   },
   "outputs": [
    {
     "name": "stderr",
     "output_type": "stream",
     "text": [
      "2016-09-28 12:28:24 INFO [get_report] 1.23152360 min\n",
      "2016-09-28 12:28:35 INFO [get_report] 0.18367785 min\n",
      "2016-09-28 12:28:35 INFO [get_reports] 1.41572204 min\n",
      "2016-09-28 12:28:35 INFO [save_reports] 1.41762309 min\n"
     ]
    },
    {
     "name": "stdout",
     "output_type": "stream",
     "text": [
      "\r"
     ]
    }
   ],
   "source": [
    "reports = api.save_reports(reports_to_download, \n",
    "                           reports_folder=\".\", \n",
    "                           zip_reports=True, \n",
    "                           zip_name=\"reports\")"
   ]
  },
  {
   "cell_type": "code",
   "execution_count": 12,
   "metadata": {
    "collapsed": false
   },
   "outputs": [
    {
     "name": "stdout",
     "output_type": "stream",
     "text": [
      "['reports.zip']\n"
     ]
    }
   ],
   "source": [
    "print([x for x in os.listdir() if x.endswith('.zip')])"
   ]
  },
  {
   "cell_type": "code",
   "execution_count": 13,
   "metadata": {
    "collapsed": false
   },
   "outputs": [
    {
     "data": {
      "text/plain": [
       "'./reports.zip'"
      ]
     },
     "execution_count": 13,
     "metadata": {},
     "output_type": "execute_result"
    }
   ],
   "source": [
    "reports"
   ]
  },
  {
   "cell_type": "code",
   "execution_count": null,
   "metadata": {
    "collapsed": true
   },
   "outputs": [],
   "source": [
    ""
   ]
  }
 ],
 "metadata": {
  "anaconda-cloud": {},
  "kernelspec": {
   "display_name": "Python 3",
   "language": "python",
   "name": "python3"
  },
  "language_info": {
   "codemirror_mode": {
    "name": "ipython",
    "version": 3.0
   },
   "file_extension": ".py",
   "mimetype": "text/x-python",
   "name": "python",
   "nbconvert_exporter": "python",
   "pygments_lexer": "ipython3",
   "version": "3.5.2"
  }
 },
 "nbformat": 4,
 "nbformat_minor": 0
}